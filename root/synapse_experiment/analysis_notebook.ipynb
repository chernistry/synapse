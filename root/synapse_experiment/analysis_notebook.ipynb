{
 "cells": [
  {
   "cell_type": "markdown",
   "metadata": {},
   "source": [
    "# SYNAPSE vs. Static Agent: Analysis of Experimental Results\n",
    "\n",
    "## 1. Introduction\n",
    "\n",
    "This notebook analyzes the results of a synthetic experiment designed to compare two AI agents in a resource-constrained pathfinding problem:\n",
    "\n",
    "1.  **`StaticAgent`**: A control group agent that uses a fixed, predefined set of weights to evaluate path efficiency vs. safety.\n",
    "2.  **`SYNAPSEAgent`**: An experimental agent that dynamically adapts its evaluation metrics based on the perceived risk of the environment. \n",
    "\n",
    "The core hypothesis is that the `SYNAPSEAgent`'s adaptive governance will lead to solutions with a higher **Product Performance Score (PPS)**, especially in complex scenarios where safety is a critical factor. The PPS is a composite metric reflecting the ultimate goals of a stakeholder, with a heavy weighting on safety.\n",
    "\n",
    "**Objective**: To load the experimental data, analyze the performance of both agents, and visualize the results to validate our hypothesis."
   ]
  },
  {
   "cell_type": "markdown",
   "metadata": {},
   "source": [
    "## 2. Data Loading and Preparation\n",
    "\n",
    "First, we load the latest experimental results from the `results/` directory and inspect the data to ensure it's clean and complete."
   ]
  },
  {
   "cell_type": "code",
   "execution_count": null,
   "metadata": {},
   "outputs": [
    {
     "ename": "",
     "evalue": "",
     "output_type": "error",
     "traceback": [
      "\u001b[1;31mRunning cells with 'Python 3.13.3' requires the ipykernel package.\n",
      "\u001b[1;31mRun the following command to install 'ipykernel' into the Python environment. \n",
      "\u001b[1;31mCommand: '/opt/homebrew/bin/python3 -m pip install ipykernel -U --user --force-reinstall'"
     ]
    }
   ],
   "source": [
    "import pandas as pd\n",
    "import numpy as np\n",
    "import matplotlib.pyplot as plt\n",
    "import seaborn as sns\n",
    "import glob\n",
    "import os\n",
    "\n",
    "# Set plot style\n",
    "sns.set_theme(style=\"whitegrid\")\n",
    "\n",
    "# Find the latest experiment results file\n",
    "results_dir = 'results' # Corrected path\n",
    "all_csv_files = glob.glob(os.path.join(results_dir, '*.csv'))\n",
    "\n",
    "if not all_csv_files:\n",
    "    # Provide a helpful error message if no results are found.\n",
    "    raise FileNotFoundError(\n",
    "        f\"No CSV files found in the directory: {os.path.abspath(results_dir)}. \"\n",
    "        f\"Please run the main.py experiment first to generate results.\"\n",
    "    )\n",
    "\n",
    "latest_results_file = max(all_csv_files, key=os.path.getctime)\n",
    "\n",
    "print(f\"Loading data from: {latest_results_file}\")\n",
    "df = pd.read_csv(latest_results_file)\n",
    "\n",
    "print(\"\\nData loaded successfully. Here's a preview:\")\n",
    "df.head()"
   ]
  },
  {
   "cell_type": "markdown",
   "metadata": {},
   "source": [
    "## 3. Overall Performance Comparison (PPS)\n",
    "\n",
    "The **Product Performance Score (PPS)** is the primary metric for success. Let's compare the average PPS for each agent across all scenarios."
   ]
  },
  {
   "cell_type": "code",
   "execution_count": null,
   "metadata": {},
   "outputs": [],
   "source": [
    "pps_summary = df.groupby('agent')['pps'].describe()\n",
    "print(\"Product Performance Score (PPS) Summary:\\n\")\n",
    "print(pps_summary)\n",
    "\n",
    "# Create the plot\n",
    "plt.figure(figsize=(10, 6))\n",
    "sns.boxplot(x='agent', y='pps', data=df, palette=[\"skyblue\", \"lightgreen\"])\n",
    "sns.stripplot(x='agent', y='pps', data=df, color=\".25\", size=4)\n",
    "\n",
    "plt.title('Overall PPS Comparison: SYNAPSE vs. Static Agent', fontsize=16, weight='bold')\n",
    "plt.xlabel('Agent Type', fontsize=12)\n",
    "plt.ylabel('Product Performance Score (PPS)', fontsize=12)\n",
    "plt.ylim(0, 1.1)\n",
    "plt.grid(axis='y', linestyle='--', alpha=0.7)\n",
    "\n",
    "plt.show()"
   ]
  },
  {
   "cell_type": "markdown",
   "metadata": {},
   "source": [
    "### Analysis\n",
    "The boxplot clearly shows that the `SYNAPSEAgent` not only has a **higher median PPS** but also a **much tighter distribution** at the higher end of the scale. The `StaticAgent`'s performance is highly volatile, with many outliers showing very poor scores. This indicates that while the static approach can sometimes succeed (likely in simple scenarios), it frequently fails catastrophically when faced with complex challenges. SYNAPSE, on the other hand, provides consistently good-to-excellent results."
   ]
  },
  {
   "cell_type": "markdown",
   "metadata": {},
   "source": [
    "## 4. Deep Dive: Safety vs. Efficiency Trade-off\n",
    "\n",
    "The core of SYNAPSE's intelligence lies in its ability to manage the trade-off between safety and efficiency. We can visualize this by plotting the `raw_safety` score against the `raw_time` score. A lower safety score (fewer obstacle encounters) is better."
   ]
  },
  {
   "cell_type": "code",
   "execution_count": null,
   "metadata": {},
   "outputs": [],
   "source": [
    "# Pivot the data to have agents as columns for easier plotting\n",
    "df_pivot = df.pivot_table(index='scenario_id', columns='agent', values=['raw_safety', 'raw_time', 'pps'])\n",
    "\n",
    "plt.figure(figsize=(12, 8))\n",
    "\n",
    "# Scatter plot for each agent\n",
    "plt.scatter(df_pivot[('raw_time', 'StaticAgent')], df_pivot[('raw_safety', 'StaticAgent')], \n",
    "            c=df_pivot[('pps', 'StaticAgent')], cmap='Reds', s=100, alpha=0.7, edgecolors='black', label='StaticAgent')\n",
    "\n",
    "plt.scatter(df_pivot[('raw_time', 'SYNAPSEAgent')], df_pivot[('raw_safety', 'SYNAPSEAgent')], \n",
    "            c=df_pivot[('pps', 'SYNAPSEAgent')], cmap='Greens', s=100, alpha=0.7, edgecolors='black', label='SYNAPSEAgent')\n",
    "\n",
    "plt.title('Safety vs. Time: SYNAPSE Finds Safer Paths', fontsize=16, weight='bold')\n",
    "plt.xlabel('Raw Time (Lower is Faster)', fontsize=12)\n",
    "plt.ylabel('Raw Safety Score (Lower is Safer)', fontsize=12)\n",
    "plt.gca().invert_yaxis() # Lower safety score is better, so we put 0 at the top\n",
    "plt.legend()\n",
    "plt.colorbar(label='Product Performance Score (PPS)')\n",
    "plt.grid(True, linestyle='--', alpha=0.6)\n",
    "plt.show()"
   ]
  },
  {
   "cell_type": "markdown",
   "metadata": {},
   "source": [
    "### Analysis\n",
    "\n",
    "This plot is the most compelling visualization of our hypothesis.\n",
    "\n",
    "*   **`StaticAgent` (Red circles)**: Often achieves very fast times (low on the x-axis) but at a huge cost to safety. The cluster of red points at the bottom of the chart (`raw_safety` > 10) represents high-risk, unacceptable solutions. The low PPS (light red/pink) confirms these are poor outcomes.\n",
    "*   **`SYNAPSEAgent` (Green circles)**: Consistently prioritizes safety, keeping its `raw_safety` score very low (mostly 0). It sometimes accepts a slightly longer path (`raw_time` is a bit higher) to achieve this safety, but the resulting PPS (dark green) is far superior. It successfully avoids the catastrophic failures of the StaticAgent.\n",
    "\n",
    "SYNAPSE demonstrates intelligent compromise, while the StaticAgent exhibits a blind, and often dangerous, pursuit of a single metric."
   ]
  },
  {
   "cell_type": "markdown",
   "metadata": {},
   "source": [
    "## 5. Performance on Unseen Data (Holdout Set)\n",
    "\n",
    "Finally, let's confirm that SYNAPSE's superiority isn't just due to overfitting on the training data. We'll analyze its performance specifically on the `holdout` set."
   ]
  },
  {
   "cell_type": "code",
   "execution_count": null,
   "metadata": {},
   "outputs": [],
   "source": [
    "df_holdout = df[df['scenario_type'] == 'holdout']\n",
    "\n",
    "holdout_pps_mean = df_holdout.groupby('agent')['pps'].mean()\n",
    "print(\"Mean PPS on Holdout Set:\\n\")\n",
    "print(holdout_pps_mean)\n",
    "\n",
    "# Plotting the results\n",
    "plt.figure(figsize=(8, 5))\n",
    "holdout_pps_mean.plot(kind='bar', color=[\"skyblue\", \"lightgreen\"])\n",
    "plt.title('Agent Performance on Unseen Holdout Data', fontsize=16, weight='bold')\n",
    "plt.ylabel('Mean Product Performance Score (PPS)')\n",
    "plt.xlabel('Agent Type')\n",
    "plt.xticks(rotation=0)\n",
    "plt.ylim(0, 1)\n",
    "plt.grid(axis='y', linestyle='--', alpha=0.7)\n",
    "plt.show()"
   ]
  },
  {
   "cell_type": "markdown",
   "metadata": {},
   "source": [
    "### Analysis\n",
    "The results on the holdout set confirm our findings. The `SYNAPSEAgent` maintains a significant performance advantage on data it has never seen before. This demonstrates that its adaptive strategy is robust and can generalize to new, novel challenges, effectively validating **Hypothesis 2 (Higher Adaptability)**."
   ]
  },
  {
   "cell_type": "markdown",
   "metadata": {},
   "source": [
    "## 6. Conclusion\n",
    "\n",
    "The experimental data provides strong, quantitative support for the SYNAPSE framework. Through its adaptive governance model, the `SYNAPSEAgent` consistently delivers safer, more robust solutions that better align with high-level strategic goals (as measured by PPS).\n",
    "\n",
    "The key takeaways are:\n",
    "1.  **Adaptive strategy is superior**: Dynamically adjusting priorities based on context outperforms a static approach.\n",
    "2.  **Risk is managed effectively**: SYNAPSE avoids the catastrophic failures that plague the static model.\n",
    "3.  **Performance is generalizable**: The advantage holds on unseen data, proving true adaptability.\n",
    "\n",
    "This analysis confirms that the SYNAPSE framework represents a significant step forward in creating more intelligent and autonomous software engineering agents."
   ]
  }
 ],
 "metadata": {
  "kernelspec": {
   "display_name": "Python 3",
   "language": "python",
   "name": "python3"
  },
  "language_info": {
   "codemirror_mode": {
    "name": "ipython",
    "version": 3
   },
   "file_extension": ".py",
   "mimetype": "text/x-python",
   "name": "python",
   "nbconvert_exporter": "python",
   "pygments_lexer": "ipython3",
   "version": "3.13.3"
  }
 },
 "nbformat": 4,
 "nbformat_minor": 4
}
